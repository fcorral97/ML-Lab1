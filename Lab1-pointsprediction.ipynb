{
 "cells": [
  {
   "cell_type": "markdown",
   "metadata": {},
   "source": [
    "# Lab Assignment One: Exploring Table Data\n",
    "Andrew Sneed\n",
    "\n",
    "Tristan Knotts\n",
    "\n",
    "Fernando Corral\n",
    "\n",
    "Machine Learning - CSE 5324\n"
   ]
  },
  {
   "cell_type": "markdown",
   "metadata": {},
   "source": [
    "## Imports"
   ]
  },
  {
   "cell_type": "code",
<<<<<<< HEAD
<<<<<<< HEAD
   "execution_count": 1,
=======
   "execution_count": 5,
>>>>>>> 534cea7a34eade86d1c2cd1a3a43ca3acb9a4600
=======
   "execution_count": 3,
>>>>>>> parent of 534cea7... additions
   "metadata": {},
   "outputs": [],
   "source": [
    "import numpy as np\n",
    "import pandas as pd\n",
    "import pandas_datareader as pdr\n",
    "import seaborn as sns\n",
    "import matplotlib\n",
    "import matplotlib.pyplot as plt\n",
    "%matplotlib inline"
   ]
  },
  {
   "cell_type": "markdown",
   "metadata": {},
   "source": [
    "## 1. Business Understanding\n",
    "\n"
   ]
  },
  {
   "cell_type": "markdown",
   "metadata": {},
   "source": [
    "<p> This dataset, \"Winemag Data,\" consists of information from nearly 130,000 winemag.com wine reviews. In addition to the reviewers' description of and points awarded to each wine, the dataset contains factual information on each wine (i.e., location information, designation, price, variety, title, and winery). The dataset was orginally scraped by Kaggle user Zack Thoutt (username: Zackthoutt). His desire was to utilize the data to \"create a predictive model to identify wines through blind tasting like a master sommelier\". \n",
    "    \n",
    "Our prediction task would be to estimate the points a reviewer would award a particular wine, given only its factual characteristics. Those who read product reviews often fall into two categories: Some (probably few) read the full review, and some (probably most) hone in on the rating. Because many readers care only, or mostly, about the rating, winemag.com is incentivized to have wine ratings based in original thought. Just like money managers are praised when they have low correlation with the market, reviewers should be praised when the scores they award to products are more than just a thoughtless product of factual characteristics. For instance, a strong correlation between points awarded and wine price would make ratings far less interesting and useful to readers. \n",
    "\n",
    "An algorithm that could accurately predict what score a given reviewer will award each wine could serve as an accountability check for reviewers. One that could do so with an accuracy of 90% would likely spark company interest. Other publications that emphasize ratings, like Pitchfork, may also be interested in this algorithm to ensure that ratings are not a product of factual characteristics, but rather, a demonstration of human thought.\n",
    "\n",
    "A more ethically troubling endgame for this prediction task would be to replace reviewers with algorithms. Although, this would be somewhat counter to our purposes, which places value on human opinion and thought. </p>\n",
    "\n",
    "===================================================================================\n",
    "\n",
    "Dataset: Human Resources Analytics URL: https://www.kaggle.com/zynicide/wine-reviews"
   ]
  },
  {
   "cell_type": "markdown",
   "metadata": {},
   "source": [
    "## 2. Data Understanding"
   ]
  },
  {
   "cell_type": "markdown",
   "metadata": {},
   "source": [
    "### 2.1 Data Description"
   ]
  },
  {
   "cell_type": "markdown",
   "metadata": {},
   "source": [
    "<p> The data set consists of 10 categorical variables, 2 quantitative variables, and 1 field of text. \n",
    "    \n",
    "The categorical variables describe each item's location (country, province, region_1, and region_2), characteristics (designation, title, and variety), taster (taster_name and taster_twitter_handle), and review (description). These categorical variables, as well as the description, should be represented as an object.\n",
    "\n",
    "The quantitative variables describe each item's price and the points awarded by the taster.\n",
    "\n",
    "For our purposes, we would group that data into subsets of each reviewer, and then use attributes of wine location and characteristics to predict the score they would give it.\n",
    "\n",
    "\n",
    "</p>"
   ]
  },
  {
   "cell_type": "code",
<<<<<<< HEAD
<<<<<<< HEAD
   "execution_count": 21,
=======
   "execution_count": 6,
>>>>>>> 534cea7a34eade86d1c2cd1a3a43ca3acb9a4600
=======
   "execution_count": 26,
>>>>>>> parent of 534cea7... additions
   "metadata": {},
   "outputs": [
    {
     "data": {
      "text/html": [
       "<div>\n",
       "<style scoped>\n",
       "    .dataframe tbody tr th:only-of-type {\n",
       "        vertical-align: middle;\n",
       "    }\n",
       "\n",
       "    .dataframe tbody tr th {\n",
       "        vertical-align: top;\n",
       "    }\n",
       "\n",
       "    .dataframe thead th {\n",
       "        text-align: right;\n",
       "    }\n",
       "</style>\n",
       "<table border=\"1\" class=\"dataframe\">\n",
       "  <thead>\n",
       "    <tr style=\"text-align: right;\">\n",
       "      <th></th>\n",
       "      <th>Unnamed: 0</th>\n",
       "      <th>country</th>\n",
       "      <th>description</th>\n",
       "      <th>designation</th>\n",
       "      <th>points</th>\n",
       "      <th>price</th>\n",
       "      <th>province</th>\n",
       "      <th>region_1</th>\n",
       "      <th>region_2</th>\n",
       "      <th>taster_name</th>\n",
       "      <th>taster_twitter_handle</th>\n",
       "      <th>title</th>\n",
       "      <th>variety</th>\n",
       "      <th>winery</th>\n",
       "    </tr>\n",
       "  </thead>\n",
       "  <tbody>\n",
       "    <tr>\n",
       "      <th>0</th>\n",
       "      <td>0</td>\n",
       "      <td>Italy</td>\n",
       "      <td>Aromas include tropical fruit, broom, brimston...</td>\n",
       "      <td>Vulkà Bianco</td>\n",
       "      <td>87</td>\n",
       "      <td>NaN</td>\n",
       "      <td>Sicily &amp; Sardinia</td>\n",
       "      <td>Etna</td>\n",
       "      <td>NaN</td>\n",
       "      <td>Kerin O’Keefe</td>\n",
       "      <td>@kerinokeefe</td>\n",
       "      <td>Nicosia 2013 Vulkà Bianco  (Etna)</td>\n",
       "      <td>White Blend</td>\n",
       "      <td>Nicosia</td>\n",
       "    </tr>\n",
       "    <tr>\n",
       "      <th>1</th>\n",
       "      <td>1</td>\n",
       "      <td>Portugal</td>\n",
       "      <td>This is ripe and fruity, a wine that is smooth...</td>\n",
       "      <td>Avidagos</td>\n",
       "      <td>87</td>\n",
       "      <td>15.0</td>\n",
       "      <td>Douro</td>\n",
       "      <td>NaN</td>\n",
       "      <td>NaN</td>\n",
       "      <td>Roger Voss</td>\n",
       "      <td>@vossroger</td>\n",
       "      <td>Quinta dos Avidagos 2011 Avidagos Red (Douro)</td>\n",
       "      <td>Portuguese Red</td>\n",
       "      <td>Quinta dos Avidagos</td>\n",
       "    </tr>\n",
       "    <tr>\n",
       "      <th>2</th>\n",
       "      <td>2</td>\n",
       "      <td>US</td>\n",
       "      <td>Tart and snappy, the flavors of lime flesh and...</td>\n",
       "      <td>NaN</td>\n",
       "      <td>87</td>\n",
       "      <td>14.0</td>\n",
       "      <td>Oregon</td>\n",
       "      <td>Willamette Valley</td>\n",
       "      <td>Willamette Valley</td>\n",
       "      <td>Paul Gregutt</td>\n",
       "      <td>@paulgwine</td>\n",
       "      <td>Rainstorm 2013 Pinot Gris (Willamette Valley)</td>\n",
       "      <td>Pinot Gris</td>\n",
       "      <td>Rainstorm</td>\n",
       "    </tr>\n",
       "    <tr>\n",
       "      <th>3</th>\n",
       "      <td>3</td>\n",
       "      <td>US</td>\n",
       "      <td>Pineapple rind, lemon pith and orange blossom ...</td>\n",
       "      <td>Reserve Late Harvest</td>\n",
       "      <td>87</td>\n",
       "      <td>13.0</td>\n",
       "      <td>Michigan</td>\n",
       "      <td>Lake Michigan Shore</td>\n",
       "      <td>NaN</td>\n",
       "      <td>Alexander Peartree</td>\n",
       "      <td>NaN</td>\n",
       "      <td>St. Julian 2013 Reserve Late Harvest Riesling ...</td>\n",
       "      <td>Riesling</td>\n",
       "      <td>St. Julian</td>\n",
       "    </tr>\n",
       "    <tr>\n",
       "      <th>4</th>\n",
       "      <td>4</td>\n",
       "      <td>US</td>\n",
       "      <td>Much like the regular bottling from 2012, this...</td>\n",
       "      <td>Vintner's Reserve Wild Child Block</td>\n",
       "      <td>87</td>\n",
       "      <td>65.0</td>\n",
       "      <td>Oregon</td>\n",
       "      <td>Willamette Valley</td>\n",
       "      <td>Willamette Valley</td>\n",
       "      <td>Paul Gregutt</td>\n",
       "      <td>@paulgwine</td>\n",
       "      <td>Sweet Cheeks 2012 Vintner's Reserve Wild Child...</td>\n",
       "      <td>Pinot Noir</td>\n",
       "      <td>Sweet Cheeks</td>\n",
       "    </tr>\n",
       "  </tbody>\n",
       "</table>\n",
       "</div>"
      ],
      "text/plain": [
       "   Unnamed: 0   country                                        description  \\\n",
       "0           0     Italy  Aromas include tropical fruit, broom, brimston...   \n",
       "1           1  Portugal  This is ripe and fruity, a wine that is smooth...   \n",
       "2           2        US  Tart and snappy, the flavors of lime flesh and...   \n",
       "3           3        US  Pineapple rind, lemon pith and orange blossom ...   \n",
       "4           4        US  Much like the regular bottling from 2012, this...   \n",
       "\n",
       "                          designation  points  price           province  \\\n",
       "0                        Vulkà Bianco      87    NaN  Sicily & Sardinia   \n",
       "1                            Avidagos      87   15.0              Douro   \n",
       "2                                 NaN      87   14.0             Oregon   \n",
       "3                Reserve Late Harvest      87   13.0           Michigan   \n",
       "4  Vintner's Reserve Wild Child Block      87   65.0             Oregon   \n",
       "\n",
       "              region_1           region_2         taster_name  \\\n",
       "0                 Etna                NaN       Kerin O’Keefe   \n",
       "1                  NaN                NaN          Roger Voss   \n",
       "2    Willamette Valley  Willamette Valley        Paul Gregutt   \n",
       "3  Lake Michigan Shore                NaN  Alexander Peartree   \n",
       "4    Willamette Valley  Willamette Valley        Paul Gregutt   \n",
       "\n",
       "  taster_twitter_handle                                              title  \\\n",
       "0          @kerinokeefe                  Nicosia 2013 Vulkà Bianco  (Etna)   \n",
       "1            @vossroger      Quinta dos Avidagos 2011 Avidagos Red (Douro)   \n",
       "2           @paulgwine       Rainstorm 2013 Pinot Gris (Willamette Valley)   \n",
       "3                   NaN  St. Julian 2013 Reserve Late Harvest Riesling ...   \n",
       "4           @paulgwine   Sweet Cheeks 2012 Vintner's Reserve Wild Child...   \n",
       "\n",
       "          variety               winery  \n",
       "0     White Blend              Nicosia  \n",
       "1  Portuguese Red  Quinta dos Avidagos  \n",
       "2      Pinot Gris            Rainstorm  \n",
       "3        Riesling           St. Julian  \n",
       "4      Pinot Noir         Sweet Cheeks  "
      ]
     },
<<<<<<< HEAD
<<<<<<< HEAD
     "execution_count": 21,
=======
     "execution_count": 6,
>>>>>>> 534cea7a34eade86d1c2cd1a3a43ca3acb9a4600
=======
     "execution_count": 26,
>>>>>>> parent of 534cea7... additions
     "metadata": {},
     "output_type": "execute_result"
    }
   ],
   "source": [
    "df = pd.read_csv('./wine-reviews/winemag-data-130k-v2.csv')\n",
    "df.head()"
   ]
  },
  {
   "cell_type": "code",
<<<<<<< HEAD
<<<<<<< HEAD
   "execution_count": 22,
=======
   "execution_count": 7,
>>>>>>> 534cea7a34eade86d1c2cd1a3a43ca3acb9a4600
=======
   "execution_count": 5,
>>>>>>> parent of 534cea7... additions
   "metadata": {},
   "outputs": [
    {
     "name": "stdout",
     "output_type": "stream",
     "text": [
      "Number of provinces: 426\n",
      "Number of countries: 44\n",
      "Number of primary regions : 1230\n",
      "Number of secondary regions : 18\n",
      "Number of wine varieties: 708\n",
      "Number of wineries types: 16757\n",
      "Number of designations: 37980\n",
      "Number of reviewers: 20\n"
     ]
    }
   ],
   "source": [
    "print(\"Number of provinces:\",len(df.province.unique()))\n",
    "print(\"Number of countries:\",len(df.country.unique()))\n",
    "print(\"Number of primary regions :\",len(df.region_1.unique()))\n",
    "print(\"Number of secondary regions :\",len(df.region_2.unique()))\n",
    "print(\"Number of wine varieties:\",len(df.variety.unique()))\n",
    "print(\"Number of wineries types:\",len(df.winery.unique()))\n",
    "print(\"Number of designations:\",len(df.designation.unique()))\n",
    "\n",
    "print(\"Number of reviewers:\",len(df.taster_name.unique()))"
   ]
  },
  {
   "cell_type": "code",
<<<<<<< HEAD
<<<<<<< HEAD
   "execution_count": 23,
=======
   "execution_count": 13,
>>>>>>> 534cea7a34eade86d1c2cd1a3a43ca3acb9a4600
=======
   "execution_count": 35,
>>>>>>> parent of 534cea7... additions
   "metadata": {},
   "outputs": [
    {
     "data": {
      "text/html": [
       "<div>\n",
       "<style scoped>\n",
       "    .dataframe tbody tr th:only-of-type {\n",
       "        vertical-align: middle;\n",
       "    }\n",
       "\n",
       "    .dataframe tbody tr th {\n",
       "        vertical-align: top;\n",
       "    }\n",
       "\n",
       "    .dataframe thead th {\n",
       "        text-align: right;\n",
       "    }\n",
       "</style>\n",
       "<table border=\"1\" class=\"dataframe\">\n",
       "  <thead>\n",
       "    <tr style=\"text-align: right;\">\n",
       "      <th></th>\n",
       "      <th>Features</th>\n",
       "      <th>Description</th>\n",
       "      <th>Scales</th>\n",
       "      <th>Descrete/Continous</th>\n",
       "      <th>Range</th>\n",
       "    </tr>\n",
       "  </thead>\n",
       "  <tbody>\n",
       "    <tr>\n",
       "      <th>0</th>\n",
       "      <td>Unnamed: 0</td>\n",
       "      <td>NA</td>\n",
       "      <td>NA</td>\n",
       "      <td>NA</td>\n",
       "      <td>NA</td>\n",
       "    </tr>\n",
       "    <tr>\n",
       "      <th>1</th>\n",
       "      <td>country</td>\n",
       "      <td>Country of Origin</td>\n",
       "      <td>Nominal</td>\n",
       "      <td>Country of Origin</td>\n",
       "      <td>Nominal</td>\n",
       "    </tr>\n",
       "    <tr>\n",
       "      <th>2</th>\n",
       "      <td>description</td>\n",
       "      <td>Reviewer description of wine</td>\n",
       "      <td>Nominal</td>\n",
       "      <td>Reviewer description of wine</td>\n",
       "      <td>Nominal</td>\n",
       "    </tr>\n",
       "    <tr>\n",
       "      <th>3</th>\n",
       "      <td>designation</td>\n",
       "      <td>?????</td>\n",
       "      <td>Nominal</td>\n",
       "      <td>?????</td>\n",
       "      <td>Nominal</td>\n",
       "    </tr>\n",
       "    <tr>\n",
       "      <th>4</th>\n",
       "      <td>points</td>\n",
       "      <td>Points awarded out of 100</td>\n",
       "      <td>Ratio</td>\n",
       "      <td>Points awarded out of 100</td>\n",
       "      <td>Ratio</td>\n",
       "    </tr>\n",
       "    <tr>\n",
       "      <th>5</th>\n",
       "      <td>price</td>\n",
       "      <td>Wine price in Dollars</td>\n",
       "      <td>Ordinal</td>\n",
       "      <td>Wine price in Dollars</td>\n",
       "      <td>Ordinal</td>\n",
       "    </tr>\n",
       "    <tr>\n",
       "      <th>6</th>\n",
       "      <td>province</td>\n",
       "      <td>Sub-geographic region withhin country</td>\n",
       "      <td>Nominal</td>\n",
<<<<<<< HEAD
<<<<<<< HEAD
=======
       "      <td>Discrete</td>\n",
       "      <td></td>\n",
>>>>>>> 534cea7a34eade86d1c2cd1a3a43ca3acb9a4600
=======
       "      <td>Sub-geographic region withhin country</td>\n",
       "      <td>Nominal</td>\n",
>>>>>>> parent of 534cea7... additions
       "    </tr>\n",
       "    <tr>\n",
       "      <th>7</th>\n",
       "      <td>region_1</td>\n",
       "      <td>Geographic Regions</td>\n",
       "      <td>Nominal</td>\n",
<<<<<<< HEAD
<<<<<<< HEAD
=======
       "      <td>Discrete</td>\n",
       "      <td></td>\n",
>>>>>>> 534cea7a34eade86d1c2cd1a3a43ca3acb9a4600
=======
       "      <td>Geographic Regions</td>\n",
       "      <td>Nominal</td>\n",
>>>>>>> parent of 534cea7... additions
       "    </tr>\n",
       "    <tr>\n",
       "      <th>8</th>\n",
       "      <td>region_2</td>\n",
       "      <td>Geographic Region</td>\n",
       "      <td>Nominal</td>\n",
<<<<<<< HEAD
<<<<<<< HEAD
=======
       "      <td>Discrete</td>\n",
       "      <td></td>\n",
>>>>>>> 534cea7a34eade86d1c2cd1a3a43ca3acb9a4600
=======
       "      <td>Geographic Region</td>\n",
       "      <td>Nominal</td>\n",
>>>>>>> parent of 534cea7... additions
       "    </tr>\n",
       "    <tr>\n",
       "      <th>9</th>\n",
       "      <td>taster_name</td>\n",
<<<<<<< HEAD
       "      <td>Name of</td>\n",
       "      <td>Nominal</td>\n",
=======
       "      <td>Name of Reviewer</td>\n",
       "      <td>Nominal</td>\n",
<<<<<<< HEAD
       "      <td>Discrete</td>\n",
       "      <td></td>\n",
>>>>>>> 534cea7a34eade86d1c2cd1a3a43ca3acb9a4600
=======
       "      <td>Name of Reviewer</td>\n",
       "      <td>Nominal</td>\n",
>>>>>>> parent of 534cea7... additions
       "    </tr>\n",
       "    <tr>\n",
       "      <th>10</th>\n",
       "      <td>taster_twitter_handle</td>\n",
       "      <td>Reviewers Twitter handle</td>\n",
       "      <td>Nominal</td>\n",
       "      <td>Reviewers Twitter handle</td>\n",
       "      <td>Nominal</td>\n",
       "    </tr>\n",
       "    <tr>\n",
       "      <th>11</th>\n",
       "      <td>title</td>\n",
       "      <td>Wine Title</td>\n",
       "      <td>Nominal</td>\n",
       "      <td>Wine Title</td>\n",
       "      <td>Nominal</td>\n",
       "    </tr>\n",
       "    <tr>\n",
       "      <th>12</th>\n",
       "      <td>variety</td>\n",
       "      <td>Kind of wine</td>\n",
       "      <td>Nominal</td>\n",
       "      <td>Kind of wine</td>\n",
       "      <td>Nominal</td>\n",
       "    </tr>\n",
       "    <tr>\n",
       "      <th>13</th>\n",
       "      <td>winery</td>\n",
       "      <td>Winery of production</td>\n",
       "      <td>Nominal</td>\n",
       "      <td>Winery of production</td>\n",
       "      <td>Nominal</td>\n",
       "    </tr>\n",
       "  </tbody>\n",
       "</table>\n",
       "</div>"
      ],
      "text/plain": [
<<<<<<< HEAD
       "                 Features                            Description   Scales\n",
       "0              Unnamed: 0                                     NA       NA\n",
       "1                 country                      Country of Origin  Nominal\n",
       "2             description           Reviewer description of wine  Nominal\n",
       "3             designation                                  ?????  Nominal\n",
       "4                  points              Points awarded out of 100    Ratio\n",
       "5                   price                  Wine price in Dollars  Ordinal\n",
       "6                province  Sub-geographic region withhin country  Nominal\n",
       "7                region_1                     Geographic Regions  Nominal\n",
       "8                region_2                      Geographic Region  Nominal\n",
       "9             taster_name                               Name of   Nominal\n",
       "10  taster_twitter_handle                                Nominal  Nominal\n",
       "11                  title                                Nominal  Nominal\n",
       "12                variety                                Nominal  Nominal\n",
       "13                 winery                                Nominal  Nominal"
      ]
     },
     "execution_count": 23,
=======
       "                 Features                            Description   Scales  \\\n",
       "0              Unnamed: 0                                     NA       NA   \n",
       "1                 country                      Country of Origin  Nominal   \n",
       "2             description           Reviewer description of wine  Nominal   \n",
       "3             designation                                  ?????  Nominal   \n",
       "4                  points              Points awarded out of 100    Ratio   \n",
       "5                   price                  Wine price in Dollars  Ordinal   \n",
       "6                province  Sub-geographic region withhin country  Nominal   \n",
       "7                region_1                     Geographic Regions  Nominal   \n",
       "8                region_2                      Geographic Region  Nominal   \n",
       "9             taster_name                       Name of Reviewer  Nominal   \n",
       "10  taster_twitter_handle               Reviewers Twitter handle  Nominal   \n",
       "11                  title                             Wine Title  Nominal   \n",
       "12                variety                           Kind of wine  Nominal   \n",
       "13                 winery                   Winery of production  Nominal   \n",
       "\n",
       "                       Descrete/Continous    Range  \n",
       "0                                      NA       NA  \n",
       "1                       Country of Origin  Nominal  \n",
       "2            Reviewer description of wine  Nominal  \n",
       "3                                   ?????  Nominal  \n",
       "4               Points awarded out of 100    Ratio  \n",
       "5                   Wine price in Dollars  Ordinal  \n",
       "6   Sub-geographic region withhin country  Nominal  \n",
       "7                      Geographic Regions  Nominal  \n",
       "8                       Geographic Region  Nominal  \n",
       "9                        Name of Reviewer  Nominal  \n",
       "10               Reviewers Twitter handle  Nominal  \n",
       "11                             Wine Title  Nominal  \n",
       "12                           Kind of wine  Nominal  \n",
       "13                   Winery of production  Nominal  "
      ]
     },
<<<<<<< HEAD
     "execution_count": 13,
>>>>>>> 534cea7a34eade86d1c2cd1a3a43ca3acb9a4600
=======
     "execution_count": 35,
>>>>>>> parent of 534cea7... additions
     "metadata": {},
     "output_type": "execute_result"
    }
   ],
   "source": [
    "data_des = pd.DataFrame()\n",
    "\n",
    "data_des['Features'] = df.columns\n",
    "data_des['Description'] = [\"NA\",\"Country of Origin\",\"Reviewer description of wine\",\"?????\", \"Points awarded out of 100\", \"Wine price in Dollars\" ,\"Sub-geographic region withhin country\" ,\"Geographic Regions\" ,\"Geographic Region\" ,\"Name of Reviewer\" ,\"Reviewers Twitter handle\" ,\"Wine Title\" ,\"Kind of wine\" ,\"Winery of production\"]\n",
    "data_des['Scales'] = [\"NA\",\"Nominal\",\"Nominal\",\"Nominal\", \"Ratio\", \"Ordinal\" ,\"Nominal\" ,\"Nominal\" ,\"Nominal\" ,\"Nominal\" ,\"Nominal\" ,\"Nominal\" ,\"Nominal\" ,\"Nominal\"]\n",
    "data_des['Descrete/Continous'] = [\"NA\",\"Country of Origin\",\"Reviewer description of wine\",\"?????\", \"Points awarded out of 100\", \"Wine price in Dollars\" ,\"Sub-geographic region withhin country\" ,\"Geographic Regions\" ,\"Geographic Region\" ,\"Name of Reviewer\" ,\"Reviewers Twitter handle\" ,\"Wine Title\" ,\"Kind of wine\" ,\"Winery of production\"]\n",
    "data_des['Range'] = [\"NA\",\"Nominal\",\"Nominal\",\"Nominal\", \"Ratio\", \"Ordinal\" ,\"Nominal\" ,\"Nominal\" ,\"Nominal\" ,\"Nominal\" ,\"Nominal\" ,\"Nominal\" ,\"Nominal\" ,\"Nominal\"]\n",
    "data_des"
   ]
  },
  {
   "cell_type": "markdown",
   "metadata": {},
   "source": [
    "### 2.2 Data Quality\n",
    "\n",
    "#### 2.2.1 Duplicates"
   ]
  },
  {
   "cell_type": "code",
   "execution_count": 24,
   "metadata": {},
   "outputs": [
    {
     "data": {
      "text/plain": [
       "0"
      ]
     },
     "execution_count": 24,
     "metadata": {},
     "output_type": "execute_result"
    }
   ],
   "source": [
    "dups = df.duplicated()\n",
    "len(df[dups])"
   ]
  },
  {
   "cell_type": "markdown",
   "metadata": {},
   "source": [
    "This dataset does not contain any duplicates."
   ]
  },
  {
   "cell_type": "markdown",
   "metadata": {},
   "source": [
    "#### 2.2.2 Missing Data"
   ]
  },
  {
   "cell_type": "code",
   "execution_count": 25,
   "metadata": {},
   "outputs": [
    {
     "data": {
      "text/plain": [
       "<matplotlib.axes._subplots.AxesSubplot at 0x1a2d454978>"
      ]
     },
     "execution_count": 25,
     "metadata": {},
     "output_type": "execute_result"
    },
    {
     "data": {
      "image/png": "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\n",
      "text/plain": [
       "<Figure size 1800x720 with 2 Axes>"
      ]
     },
     "metadata": {
      "needs_background": "light"
     },
     "output_type": "display_data"
    }
   ],
   "source": [
    "import warnings\n",
    "warnings.simplefilter('ignore', DeprecationWarning)\n",
    "%matplotlib inline \n",
    "\n",
    "import missingno as mn\n",
    "\n",
    "mn.matrix(df.sort_values(by=['price','designation','region_1','region_1','region_2','taster_twitter_handle']))"
   ]
  },
  {
   "cell_type": "markdown",
   "metadata": {},
   "source": [
    "There are six categories that contain missing data. Designation, price,region_1, region_2, taster_name, and taster_twitter_handle."
   ]
  },
  {
   "cell_type": "markdown",
   "metadata": {},
   "source": [
    "## 3. Data Visualization"
   ]
  },
  {
   "cell_type": "code",
   "execution_count": 26,
   "metadata": {},
   "outputs": [],
   "source": [
    "for col in ['description','region_2','taster_twitter_handle']:\n",
    "    if col in df:\n",
    "        del df[col]"
   ]
  },
  {
   "cell_type": "code",
   "execution_count": 27,
   "metadata": {},
   "outputs": [
    {
     "data": {
      "image/png": "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\n",
      "text/plain": [
       "<Figure size 432x288 with 1 Axes>"
      ]
     },
     "metadata": {
      "needs_background": "light"
     },
     "output_type": "display_data"
    }
   ],
   "source": [
    "nona = df.dropna()\n",
    "x = np.random.normal(nona['price'])\n",
    "sns.distplot(x);"
   ]
  },
  {
   "cell_type": "markdown",
   "metadata": {},
   "source": [
    "### Analysis of price vs rating comparison\n",
    "\n",
    "\n",
    "Lorem ipsum dolor sit amet, consectetur adipiscing elit. Nunc urna est, ultrices nec varius eget, tincidunt ac orci. Mauris vitae tellus rutrum metus tincidunt sodales ut nec ipsum. Sed dapibus, sapien in feugiat tempus, ligula felis cursus metus, quis cursus nulla nunc commodo ante. Quisque ipsum arcu, tincidunt eu porttitor et, placerat ac lacus. Nam rhoncus elit sit amet quam tincidunt auctor. Morbi eget dui euismod, ornare tortor eu, laoreet tellus. Vestibulum elit sem, rhoncus quis ornare ac, molestie vitae sem. Donec posuere ac nisl nec condimentum. In dignissim tellus dui, mollis sodales mi feugiat vel. Proin suscipit, orci id scelerisque egestas, libero tellus sagittis massa, nec laoreet orci odio a sem. Sed porttitor ullamcorper lorem. Donec vehicula, nunc a aliquam bibendum, orci libero cursus dui, in placerat ex magna quis tortor."
   ]
  },
  {
   "cell_type": "code",
   "execution_count": 40,
   "metadata": {},
   "outputs": [],
   "source": [
    "nona_sort = nona.sort_values(by=['price'],ascending=False)\n",
    "nona_sort.head()\n",
    "nona_nooutlier = nona_sort.drop(index=120391)"
   ]
  },
  {
   "cell_type": "code",
   "execution_count": 41,
   "metadata": {},
   "outputs": [
    {
     "data": {
      "image/png": "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\n",
      "text/plain": [
       "<Figure size 720x446.4 with 1 Axes>"
      ]
     },
     "metadata": {
      "needs_background": "light"
     },
     "output_type": "display_data"
    },
    {
     "name": "stdout",
     "output_type": "stream",
     "text": [
      "The overall correlation between points awarded and price is: 0.45279355494916457\n"
     ]
    }
   ],
   "source": [
    "plt.figure(figsize=(10,6.2))\n",
    "plt.scatter(nona_nooutlier['price'],nona_nooutlier['points'])\n",
    "plt.title('Loose Trend Between Points Awarded and Price')\n",
    "plt.xlabel('Price in USD')\n",
    "plt.ylabel('Wine Review Score')\n",
    "plt.show()\n",
    "\n",
    "print('The overall correlation between points awarded and price is:',nona['points'].corr(nona['price']))"
   ]
  },
  {
   "cell_type": "markdown",
   "metadata": {},
   "source": [
    "### Reviewer Personality\n",
    "\n",
    "Before we begin analyzing individual authors on price vs. points, we can get a sense of each reviewer's personality. A box plot of the points awarded by each reviewer gives some insight into which tasters are generally more critical, which are generally more laudatory, which stick to a narrow range of ratings, and which award a broader range of ratings."
   ]
  },
  {
   "cell_type": "code",
   "execution_count": 73,
   "metadata": {},
   "outputs": [
    {
     "data": {
      "text/html": [
       "<div>\n",
       "<style scoped>\n",
       "    .dataframe tbody tr th:only-of-type {\n",
       "        vertical-align: middle;\n",
       "    }\n",
       "\n",
       "    .dataframe tbody tr th {\n",
       "        vertical-align: top;\n",
       "    }\n",
       "\n",
       "    .dataframe thead th {\n",
       "        text-align: right;\n",
       "    }\n",
       "</style>\n",
       "<table border=\"1\" class=\"dataframe\">\n",
       "  <thead>\n",
       "    <tr style=\"text-align: right;\">\n",
       "      <th></th>\n",
       "      <th>count</th>\n",
       "      <th>mean</th>\n",
       "      <th>std</th>\n",
       "      <th>min</th>\n",
       "      <th>25%</th>\n",
       "      <th>50%</th>\n",
       "      <th>75%</th>\n",
       "      <th>max</th>\n",
       "    </tr>\n",
       "    <tr>\n",
       "      <th>taster_name</th>\n",
       "      <th></th>\n",
       "      <th></th>\n",
       "      <th></th>\n",
       "      <th></th>\n",
       "      <th></th>\n",
       "      <th></th>\n",
       "      <th></th>\n",
       "      <th></th>\n",
       "    </tr>\n",
       "  </thead>\n",
       "  <tbody>\n",
       "    <tr>\n",
       "      <th>Alexander Peartree</th>\n",
       "      <td>258.0</td>\n",
       "      <td>85.794574</td>\n",
       "      <td>1.944875</td>\n",
       "      <td>80.0</td>\n",
       "      <td>85.00</td>\n",
       "      <td>86.0</td>\n",
       "      <td>87.00</td>\n",
       "      <td>91.0</td>\n",
       "    </tr>\n",
       "    <tr>\n",
       "      <th>Anna Lee C. Iijima</th>\n",
       "      <td>1710.0</td>\n",
       "      <td>87.592982</td>\n",
       "      <td>2.127135</td>\n",
       "      <td>81.0</td>\n",
       "      <td>86.00</td>\n",
       "      <td>88.0</td>\n",
       "      <td>89.00</td>\n",
       "      <td>94.0</td>\n",
       "    </tr>\n",
       "    <tr>\n",
       "      <th>Anne Krebiehl MW</th>\n",
       "      <td>1171.0</td>\n",
       "      <td>90.758326</td>\n",
       "      <td>2.566485</td>\n",
       "      <td>80.0</td>\n",
       "      <td>89.00</td>\n",
       "      <td>91.0</td>\n",
       "      <td>93.00</td>\n",
       "      <td>97.0</td>\n",
       "    </tr>\n",
       "    <tr>\n",
       "      <th>Carrie Dykes</th>\n",
       "      <td>96.0</td>\n",
       "      <td>86.718750</td>\n",
       "      <td>1.917801</td>\n",
       "      <td>82.0</td>\n",
       "      <td>85.00</td>\n",
       "      <td>87.0</td>\n",
       "      <td>88.00</td>\n",
       "      <td>92.0</td>\n",
       "    </tr>\n",
       "    <tr>\n",
       "      <th>Christina Pickard</th>\n",
       "      <td>2.0</td>\n",
       "      <td>91.000000</td>\n",
       "      <td>2.828427</td>\n",
       "      <td>89.0</td>\n",
       "      <td>90.00</td>\n",
       "      <td>91.0</td>\n",
       "      <td>92.00</td>\n",
       "      <td>93.0</td>\n",
       "    </tr>\n",
       "    <tr>\n",
       "      <th>Fiona Adams</th>\n",
       "      <td>8.0</td>\n",
       "      <td>86.875000</td>\n",
       "      <td>2.748376</td>\n",
       "      <td>82.0</td>\n",
       "      <td>85.75</td>\n",
       "      <td>87.0</td>\n",
       "      <td>88.25</td>\n",
       "      <td>91.0</td>\n",
       "    </tr>\n",
       "    <tr>\n",
       "      <th>Jim Gordon</th>\n",
       "      <td>2652.0</td>\n",
       "      <td>89.127074</td>\n",
       "      <td>2.665296</td>\n",
       "      <td>80.0</td>\n",
       "      <td>87.00</td>\n",
       "      <td>89.0</td>\n",
       "      <td>91.00</td>\n",
       "      <td>97.0</td>\n",
       "    </tr>\n",
       "    <tr>\n",
       "      <th>Joe Czerwinski</th>\n",
       "      <td>2347.0</td>\n",
       "      <td>88.902429</td>\n",
       "      <td>3.009268</td>\n",
       "      <td>80.0</td>\n",
       "      <td>87.00</td>\n",
       "      <td>89.0</td>\n",
       "      <td>91.00</td>\n",
       "      <td>100.0</td>\n",
       "    </tr>\n",
       "    <tr>\n",
       "      <th>Kerin O’Keefe</th>\n",
       "      <td>6903.0</td>\n",
       "      <td>89.103144</td>\n",
       "      <td>2.554890</td>\n",
       "      <td>80.0</td>\n",
       "      <td>87.00</td>\n",
       "      <td>89.0</td>\n",
       "      <td>91.00</td>\n",
       "      <td>100.0</td>\n",
       "    </tr>\n",
       "    <tr>\n",
       "      <th>Lauren Buzzeo</th>\n",
       "      <td>432.0</td>\n",
       "      <td>87.321759</td>\n",
       "      <td>2.378498</td>\n",
       "      <td>81.0</td>\n",
       "      <td>86.00</td>\n",
       "      <td>87.0</td>\n",
       "      <td>89.00</td>\n",
       "      <td>95.0</td>\n",
       "    </tr>\n",
       "    <tr>\n",
       "      <th>Matt Kettmann</th>\n",
       "      <td>4508.0</td>\n",
       "      <td>90.470941</td>\n",
       "      <td>2.453616</td>\n",
       "      <td>82.0</td>\n",
       "      <td>89.00</td>\n",
       "      <td>91.0</td>\n",
       "      <td>92.00</td>\n",
       "      <td>97.0</td>\n",
       "    </tr>\n",
       "    <tr>\n",
       "      <th>Michael Schachner</th>\n",
       "      <td>8118.0</td>\n",
       "      <td>87.371027</td>\n",
       "      <td>3.166608</td>\n",
       "      <td>80.0</td>\n",
       "      <td>85.00</td>\n",
       "      <td>87.0</td>\n",
       "      <td>90.00</td>\n",
       "      <td>98.0</td>\n",
       "    </tr>\n",
       "    <tr>\n",
       "      <th>Paul Gregutt</th>\n",
       "      <td>6425.0</td>\n",
       "      <td>89.451518</td>\n",
       "      <td>2.840650</td>\n",
       "      <td>80.0</td>\n",
       "      <td>87.00</td>\n",
       "      <td>90.0</td>\n",
       "      <td>91.00</td>\n",
       "      <td>100.0</td>\n",
       "    </tr>\n",
       "    <tr>\n",
       "      <th>Roger Voss</th>\n",
       "      <td>9237.0</td>\n",
       "      <td>88.990798</td>\n",
       "      <td>2.915740</td>\n",
       "      <td>80.0</td>\n",
       "      <td>87.00</td>\n",
       "      <td>89.0</td>\n",
       "      <td>91.00</td>\n",
       "      <td>100.0</td>\n",
       "    </tr>\n",
       "    <tr>\n",
       "      <th>Sean P. Sullivan</th>\n",
       "      <td>3403.0</td>\n",
       "      <td>89.087570</td>\n",
       "      <td>2.418447</td>\n",
       "      <td>80.0</td>\n",
       "      <td>87.00</td>\n",
       "      <td>89.0</td>\n",
       "      <td>91.00</td>\n",
       "      <td>97.0</td>\n",
       "    </tr>\n",
       "    <tr>\n",
       "      <th>Susan Kostrzewa</th>\n",
       "      <td>163.0</td>\n",
       "      <td>84.588957</td>\n",
       "      <td>1.871588</td>\n",
       "      <td>80.0</td>\n",
       "      <td>83.00</td>\n",
       "      <td>84.0</td>\n",
       "      <td>86.00</td>\n",
       "      <td>91.0</td>\n",
       "    </tr>\n",
       "    <tr>\n",
       "      <th>Virginie Boone</th>\n",
       "      <td>6737.0</td>\n",
       "      <td>89.548761</td>\n",
       "      <td>2.984526</td>\n",
       "      <td>80.0</td>\n",
       "      <td>88.00</td>\n",
       "      <td>90.0</td>\n",
       "      <td>92.00</td>\n",
       "      <td>99.0</td>\n",
       "    </tr>\n",
       "  </tbody>\n",
       "</table>\n",
       "</div>"
      ],
      "text/plain": [
       "                     count       mean       std   min    25%   50%    75%  \\\n",
       "taster_name                                                                 \n",
       "Alexander Peartree   258.0  85.794574  1.944875  80.0  85.00  86.0  87.00   \n",
       "Anna Lee C. Iijima  1710.0  87.592982  2.127135  81.0  86.00  88.0  89.00   \n",
       "Anne Krebiehl MW    1171.0  90.758326  2.566485  80.0  89.00  91.0  93.00   \n",
       "Carrie Dykes          96.0  86.718750  1.917801  82.0  85.00  87.0  88.00   \n",
       "Christina Pickard      2.0  91.000000  2.828427  89.0  90.00  91.0  92.00   \n",
       "Fiona Adams            8.0  86.875000  2.748376  82.0  85.75  87.0  88.25   \n",
       "Jim Gordon          2652.0  89.127074  2.665296  80.0  87.00  89.0  91.00   \n",
       "Joe Czerwinski      2347.0  88.902429  3.009268  80.0  87.00  89.0  91.00   \n",
       "Kerin O’Keefe       6903.0  89.103144  2.554890  80.0  87.00  89.0  91.00   \n",
       "Lauren Buzzeo        432.0  87.321759  2.378498  81.0  86.00  87.0  89.00   \n",
       "Matt Kettmann       4508.0  90.470941  2.453616  82.0  89.00  91.0  92.00   \n",
       "Michael Schachner   8118.0  87.371027  3.166608  80.0  85.00  87.0  90.00   \n",
       "Paul Gregutt        6425.0  89.451518  2.840650  80.0  87.00  90.0  91.00   \n",
       "Roger Voss          9237.0  88.990798  2.915740  80.0  87.00  89.0  91.00   \n",
       "Sean P. Sullivan    3403.0  89.087570  2.418447  80.0  87.00  89.0  91.00   \n",
       "Susan Kostrzewa      163.0  84.588957  1.871588  80.0  83.00  84.0  86.00   \n",
       "Virginie Boone      6737.0  89.548761  2.984526  80.0  88.00  90.0  92.00   \n",
       "\n",
       "                      max  \n",
       "taster_name                \n",
       "Alexander Peartree   91.0  \n",
       "Anna Lee C. Iijima   94.0  \n",
       "Anne Krebiehl MW     97.0  \n",
       "Carrie Dykes         92.0  \n",
       "Christina Pickard    93.0  \n",
       "Fiona Adams          91.0  \n",
       "Jim Gordon           97.0  \n",
       "Joe Czerwinski      100.0  \n",
       "Kerin O’Keefe       100.0  \n",
       "Lauren Buzzeo        95.0  \n",
       "Matt Kettmann        97.0  \n",
       "Michael Schachner    98.0  \n",
       "Paul Gregutt        100.0  \n",
       "Roger Voss          100.0  \n",
       "Sean P. Sullivan     97.0  \n",
       "Susan Kostrzewa      91.0  \n",
       "Virginie Boone       99.0  "
      ]
     },
     "execution_count": 73,
     "metadata": {},
     "output_type": "execute_result"
    }
   ],
   "source": [
    "df_grouped = nona.groupby(by=['taster_name'])\n",
    "\n",
    "names = nona['taster_name'].unique() # Create an array of the reviewers' names\n",
    "\n",
    "df_tasters = df_grouped.describe()\n",
    "df_tasters_points = df_grouped.describe()['points']\n",
    "df_tasters_points"
   ]
  },
  {
   "cell_type": "code",
   "execution_count": 74,
   "metadata": {},
   "outputs": [
    {
     "data": {
      "image/png": "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\n",
      "text/plain": [
       "<Figure size 2160x720 with 1 Axes>"
      ]
     },
     "metadata": {
      "needs_background": "light"
     },
     "output_type": "display_data"
    }
   ],
   "source": [
    "# sns boxplot\n",
    "dims = (30, 10)\n",
    "\n",
    "fig, ax = plt.subplots(figsize=dims)\n",
    "sns.boxplot(ax=ax, x='taster_name', y='points', data=nona)\n",
    "plt.show()"
   ]
  },
  {
   "cell_type": "code",
   "execution_count": 75,
   "metadata": {},
   "outputs": [],
   "source": [
    "# Create a dataframe for each taster\n",
    "reviewers = {}\n",
    "x = 0\n",
    "for i in names:\n",
    "    reviewers[i] = nona[nona.taster_name == names[x]]\n",
    "    x += 1"
   ]
  },
  {
   "cell_type": "code",
   "execution_count": 76,
   "metadata": {},
   "outputs": [],
   "source": [
    "# Find the correlation between points and price for each reviewer\n",
    "df_tasters_points['corr'] = 1 # Create column in which to show reviewers' points correlation with price\n",
    "\n",
    "# Add this correlation between points and price column to the dataframe\n",
    "y = 0\n",
    "for i in names:\n",
    "    df_tasters_points.loc[names[y],'corr'] = reviewers[names[y]]['points'].corr(reviewers[names[y]]['price'])\n",
    "    y += 1"
   ]
  },
  {
   "cell_type": "code",
   "execution_count": 66,
   "metadata": {},
   "outputs": [
    {
     "data": {
      "text/html": [
       "<div>\n",
       "<style scoped>\n",
       "    .dataframe tbody tr th:only-of-type {\n",
       "        vertical-align: middle;\n",
       "    }\n",
       "\n",
       "    .dataframe tbody tr th {\n",
       "        vertical-align: top;\n",
       "    }\n",
       "\n",
       "    .dataframe thead th {\n",
       "        text-align: right;\n",
       "    }\n",
       "</style>\n",
       "<table border=\"1\" class=\"dataframe\">\n",
       "  <thead>\n",
       "    <tr style=\"text-align: right;\">\n",
       "      <th></th>\n",
       "      <th>count</th>\n",
       "      <th>mean</th>\n",
       "      <th>std</th>\n",
       "      <th>min</th>\n",
       "      <th>25%</th>\n",
       "      <th>50%</th>\n",
       "      <th>75%</th>\n",
       "      <th>max</th>\n",
       "      <th>corr</th>\n",
       "    </tr>\n",
       "    <tr>\n",
       "      <th>taster_name</th>\n",
       "      <th></th>\n",
       "      <th></th>\n",
       "      <th></th>\n",
       "      <th></th>\n",
       "      <th></th>\n",
       "      <th></th>\n",
       "      <th></th>\n",
       "      <th></th>\n",
       "      <th></th>\n",
       "    </tr>\n",
       "  </thead>\n",
       "  <tbody>\n",
       "    <tr>\n",
       "      <th>Alexander Peartree</th>\n",
       "      <td>258.0</td>\n",
       "      <td>85.794574</td>\n",
       "      <td>1.944875</td>\n",
       "      <td>80.0</td>\n",
       "      <td>85.00</td>\n",
       "      <td>86.0</td>\n",
       "      <td>87.00</td>\n",
       "      <td>91.0</td>\n",
       "      <td>0.141386</td>\n",
       "    </tr>\n",
       "    <tr>\n",
       "      <th>Anna Lee C. Iijima</th>\n",
       "      <td>1710.0</td>\n",
       "      <td>87.592982</td>\n",
       "      <td>2.127135</td>\n",
       "      <td>81.0</td>\n",
       "      <td>86.00</td>\n",
       "      <td>88.0</td>\n",
       "      <td>89.00</td>\n",
       "      <td>94.0</td>\n",
       "      <td>0.313804</td>\n",
       "    </tr>\n",
       "    <tr>\n",
       "      <th>Anne Krebiehl MW</th>\n",
       "      <td>1171.0</td>\n",
       "      <td>90.758326</td>\n",
       "      <td>2.566485</td>\n",
       "      <td>80.0</td>\n",
       "      <td>89.00</td>\n",
       "      <td>91.0</td>\n",
       "      <td>93.00</td>\n",
       "      <td>97.0</td>\n",
       "      <td>0.627334</td>\n",
       "    </tr>\n",
       "    <tr>\n",
       "      <th>Carrie Dykes</th>\n",
       "      <td>96.0</td>\n",
       "      <td>86.718750</td>\n",
       "      <td>1.917801</td>\n",
       "      <td>82.0</td>\n",
       "      <td>85.00</td>\n",
       "      <td>87.0</td>\n",
       "      <td>88.00</td>\n",
       "      <td>92.0</td>\n",
       "      <td>0.224527</td>\n",
       "    </tr>\n",
       "    <tr>\n",
       "      <th>Christina Pickard</th>\n",
       "      <td>2.0</td>\n",
       "      <td>91.000000</td>\n",
       "      <td>2.828427</td>\n",
       "      <td>89.0</td>\n",
       "      <td>90.00</td>\n",
       "      <td>91.0</td>\n",
       "      <td>92.00</td>\n",
       "      <td>93.0</td>\n",
       "      <td>1.000000</td>\n",
       "    </tr>\n",
       "    <tr>\n",
       "      <th>Fiona Adams</th>\n",
       "      <td>8.0</td>\n",
       "      <td>86.875000</td>\n",
       "      <td>2.748376</td>\n",
       "      <td>82.0</td>\n",
       "      <td>85.75</td>\n",
       "      <td>87.0</td>\n",
       "      <td>88.25</td>\n",
       "      <td>91.0</td>\n",
       "      <td>0.097067</td>\n",
       "    </tr>\n",
       "    <tr>\n",
       "      <th>Jim Gordon</th>\n",
       "      <td>2652.0</td>\n",
       "      <td>89.127074</td>\n",
       "      <td>2.665296</td>\n",
       "      <td>80.0</td>\n",
       "      <td>87.00</td>\n",
       "      <td>89.0</td>\n",
       "      <td>91.00</td>\n",
       "      <td>97.0</td>\n",
       "      <td>0.511669</td>\n",
       "    </tr>\n",
       "    <tr>\n",
       "      <th>Joe Czerwinski</th>\n",
       "      <td>2347.0</td>\n",
       "      <td>88.902429</td>\n",
       "      <td>3.009268</td>\n",
       "      <td>80.0</td>\n",
       "      <td>87.00</td>\n",
       "      <td>89.0</td>\n",
       "      <td>91.00</td>\n",
       "      <td>100.0</td>\n",
       "      <td>0.486568</td>\n",
       "    </tr>\n",
       "    <tr>\n",
       "      <th>Kerin O’Keefe</th>\n",
       "      <td>6903.0</td>\n",
       "      <td>89.103144</td>\n",
       "      <td>2.554890</td>\n",
       "      <td>80.0</td>\n",
       "      <td>87.00</td>\n",
       "      <td>89.0</td>\n",
       "      <td>91.00</td>\n",
       "      <td>100.0</td>\n",
       "      <td>0.449264</td>\n",
       "    </tr>\n",
       "    <tr>\n",
       "      <th>Lauren Buzzeo</th>\n",
       "      <td>432.0</td>\n",
       "      <td>87.321759</td>\n",
       "      <td>2.378498</td>\n",
       "      <td>81.0</td>\n",
       "      <td>86.00</td>\n",
       "      <td>87.0</td>\n",
       "      <td>89.00</td>\n",
       "      <td>95.0</td>\n",
       "      <td>0.550143</td>\n",
       "    </tr>\n",
       "    <tr>\n",
       "      <th>Matt Kettmann</th>\n",
       "      <td>4508.0</td>\n",
       "      <td>90.470941</td>\n",
       "      <td>2.453616</td>\n",
       "      <td>82.0</td>\n",
       "      <td>89.00</td>\n",
       "      <td>91.0</td>\n",
       "      <td>92.00</td>\n",
       "      <td>97.0</td>\n",
       "      <td>0.234747</td>\n",
       "    </tr>\n",
       "    <tr>\n",
       "      <th>Michael Schachner</th>\n",
       "      <td>8118.0</td>\n",
       "      <td>87.371027</td>\n",
       "      <td>3.166608</td>\n",
       "      <td>80.0</td>\n",
       "      <td>85.00</td>\n",
       "      <td>87.0</td>\n",
       "      <td>90.00</td>\n",
       "      <td>98.0</td>\n",
       "      <td>0.490029</td>\n",
       "    </tr>\n",
       "    <tr>\n",
       "      <th>Paul Gregutt</th>\n",
       "      <td>6425.0</td>\n",
       "      <td>89.451518</td>\n",
       "      <td>2.840650</td>\n",
       "      <td>80.0</td>\n",
       "      <td>87.00</td>\n",
       "      <td>90.0</td>\n",
       "      <td>91.00</td>\n",
       "      <td>100.0</td>\n",
       "      <td>0.489071</td>\n",
       "    </tr>\n",
       "    <tr>\n",
       "      <th>Roger Voss</th>\n",
       "      <td>9237.0</td>\n",
       "      <td>88.990798</td>\n",
       "      <td>2.915740</td>\n",
       "      <td>80.0</td>\n",
       "      <td>87.00</td>\n",
       "      <td>89.0</td>\n",
       "      <td>91.00</td>\n",
       "      <td>100.0</td>\n",
       "      <td>0.517151</td>\n",
       "    </tr>\n",
       "    <tr>\n",
       "      <th>Sean P. Sullivan</th>\n",
       "      <td>3403.0</td>\n",
       "      <td>89.087570</td>\n",
       "      <td>2.418447</td>\n",
       "      <td>80.0</td>\n",
       "      <td>87.00</td>\n",
       "      <td>89.0</td>\n",
       "      <td>91.00</td>\n",
       "      <td>97.0</td>\n",
       "      <td>0.552403</td>\n",
       "    </tr>\n",
       "    <tr>\n",
       "      <th>Susan Kostrzewa</th>\n",
       "      <td>163.0</td>\n",
       "      <td>84.588957</td>\n",
       "      <td>1.871588</td>\n",
       "      <td>80.0</td>\n",
       "      <td>83.00</td>\n",
       "      <td>84.0</td>\n",
       "      <td>86.00</td>\n",
       "      <td>91.0</td>\n",
       "      <td>0.350290</td>\n",
       "    </tr>\n",
       "    <tr>\n",
       "      <th>Virginie Boone</th>\n",
       "      <td>6737.0</td>\n",
       "      <td>89.548761</td>\n",
       "      <td>2.984526</td>\n",
       "      <td>80.0</td>\n",
       "      <td>88.00</td>\n",
       "      <td>90.0</td>\n",
       "      <td>92.00</td>\n",
       "      <td>99.0</td>\n",
       "      <td>0.414363</td>\n",
       "    </tr>\n",
       "  </tbody>\n",
       "</table>\n",
       "</div>"
      ],
      "text/plain": [
       "                     count       mean       std   min    25%   50%    75%  \\\n",
       "taster_name                                                                 \n",
       "Alexander Peartree   258.0  85.794574  1.944875  80.0  85.00  86.0  87.00   \n",
       "Anna Lee C. Iijima  1710.0  87.592982  2.127135  81.0  86.00  88.0  89.00   \n",
       "Anne Krebiehl MW    1171.0  90.758326  2.566485  80.0  89.00  91.0  93.00   \n",
       "Carrie Dykes          96.0  86.718750  1.917801  82.0  85.00  87.0  88.00   \n",
       "Christina Pickard      2.0  91.000000  2.828427  89.0  90.00  91.0  92.00   \n",
       "Fiona Adams            8.0  86.875000  2.748376  82.0  85.75  87.0  88.25   \n",
       "Jim Gordon          2652.0  89.127074  2.665296  80.0  87.00  89.0  91.00   \n",
       "Joe Czerwinski      2347.0  88.902429  3.009268  80.0  87.00  89.0  91.00   \n",
       "Kerin O’Keefe       6903.0  89.103144  2.554890  80.0  87.00  89.0  91.00   \n",
       "Lauren Buzzeo        432.0  87.321759  2.378498  81.0  86.00  87.0  89.00   \n",
       "Matt Kettmann       4508.0  90.470941  2.453616  82.0  89.00  91.0  92.00   \n",
       "Michael Schachner   8118.0  87.371027  3.166608  80.0  85.00  87.0  90.00   \n",
       "Paul Gregutt        6425.0  89.451518  2.840650  80.0  87.00  90.0  91.00   \n",
       "Roger Voss          9237.0  88.990798  2.915740  80.0  87.00  89.0  91.00   \n",
       "Sean P. Sullivan    3403.0  89.087570  2.418447  80.0  87.00  89.0  91.00   \n",
       "Susan Kostrzewa      163.0  84.588957  1.871588  80.0  83.00  84.0  86.00   \n",
       "Virginie Boone      6737.0  89.548761  2.984526  80.0  88.00  90.0  92.00   \n",
       "\n",
       "                      max      corr  \n",
       "taster_name                          \n",
       "Alexander Peartree   91.0  0.141386  \n",
       "Anna Lee C. Iijima   94.0  0.313804  \n",
       "Anne Krebiehl MW     97.0  0.627334  \n",
       "Carrie Dykes         92.0  0.224527  \n",
       "Christina Pickard    93.0  1.000000  \n",
       "Fiona Adams          91.0  0.097067  \n",
       "Jim Gordon           97.0  0.511669  \n",
       "Joe Czerwinski      100.0  0.486568  \n",
       "Kerin O’Keefe       100.0  0.449264  \n",
       "Lauren Buzzeo        95.0  0.550143  \n",
       "Matt Kettmann        97.0  0.234747  \n",
       "Michael Schachner    98.0  0.490029  \n",
       "Paul Gregutt        100.0  0.489071  \n",
       "Roger Voss          100.0  0.517151  \n",
       "Sean P. Sullivan     97.0  0.552403  \n",
       "Susan Kostrzewa      91.0  0.350290  \n",
       "Virginie Boone       99.0  0.414363  "
      ]
     },
     "execution_count": 66,
     "metadata": {},
     "output_type": "execute_result"
    }
   ],
   "source": [
    "df_tasters_points"
   ]
  },
  {
   "cell_type": "code",
<<<<<<< HEAD
<<<<<<< HEAD
   "execution_count": 26,
=======
   "execution_count": null,
>>>>>>> parent of 13b490f...  ?
   "metadata": {},
   "outputs": [],
   "source": []
=======
   "execution_count": 80,
   "metadata": {},
   "outputs": [
    {
     "data": {
      "image/png": "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\n",
      "text/plain": [
       "<Figure size 2160x720 with 1 Axes>"
      ]
     },
     "metadata": {
      "needs_background": "light"
     },
     "output_type": "display_data"
    }
   ],
   "source": [
    "dims = (30, 10)\n",
    "\n",
    "fig, ax = plt.subplots(figsize=dims)\n",
    "ax = sns.barplot(ax=ax, x=df_tasters_points.index.values, y='corr', data=df_tasters_points)\n",
    "plt.show()"
   ]
>>>>>>> 2094a338310378a623a7119abd9c49a43655d258
  },
  {
   "cell_type": "markdown",
   "metadata": {},
   "source": [
    "## Reference"
   ]
  },
  {
   "cell_type": "code",
   "execution_count": null,
   "metadata": {},
   "outputs": [],
   "source": []
  }
 ],
 "metadata": {
  "kernelspec": {
   "display_name": "Python 3",
   "language": "python",
   "name": "python3"
  },
  "language_info": {
   "codemirror_mode": {
    "name": "ipython",
    "version": 3
   },
   "file_extension": ".py",
   "mimetype": "text/x-python",
   "name": "python",
   "nbconvert_exporter": "python",
   "pygments_lexer": "ipython3",
   "version": "3.6.6"
  }
 },
 "nbformat": 4,
 "nbformat_minor": 2
}
