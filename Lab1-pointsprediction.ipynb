{
 "cells": [
  {
   "cell_type": "markdown",
   "metadata": {},
   "source": [
    "# Lab Assignment One: Exploring Table Data\n",
    "Andrew Sneed\n",
    "\n",
    "Tristan Knotts\n",
    "\n",
    "Fernando Corral\n",
    "\n",
    "Machine Learning - CSE 5324\n"
   ]
  },
  {
   "cell_type": "markdown",
   "metadata": {},
   "source": [
    "## Imports"
   ]
  },
  {
   "cell_type": "code",
   "execution_count": 1,
   "metadata": {},
   "outputs": [],
   "source": [
    "import numpy as np\n",
    "import pandas as pd\n",
    "import pandas_datareader as pdr\n",
    "import seaborn as sns\n",
    "import matplotlib\n",
    "import matplotlib.pyplot as plt\n",
    "%matplotlib inline"
   ]
  },
  {
   "cell_type": "markdown",
   "metadata": {},
   "source": [
    "## 1. Business Understanding\n",
    "\n"
   ]
  },
  {
   "attachments": {},
   "cell_type": "markdown",
   "metadata": {},
   "source": [
    "<p> This dataset, \"winemag Data,\" consists of information from nearly 130,000 winemag.com wine reviews. In addition to the reviewers' description of and points awarded (out of 100) to each wine, the dataset also contains factual information on each wine, i.e., location information, designation, price, variety, title, and winery. The dataset was orginally scraped by Kaggle user Zack Thoutt (username: Zackthoutt). His desire was to utilize the data to \"create a predictive model to identify wines through blind tasting like a master sommelier\". \n",
    "    \n",
    "Our prediction task would be to estimate the points a reviewer would award a particular wine, given only its factual characteristics. Those who read product reviews fall into two categories: Some read the full review, and some focus solely on the rating. Because many readers care only, or mostly, about the rating, winemag.com is incentivized to be sure that reviewers are practicing original thought when rating the wine. For instance, a strong correlation between points awarded and wine price would make these ratings far less useful to readers. An algorithm that could accurately predict what score a given reviewer will award each wine could serve as an accountability check for reviewers to serve their readers by practicing original thought. Other publications that emphasize ratings, like Pitchfork, may also be interested in this algorithm to hold their reviewers accountable.\n",
    "\n",
    "A more ethically troubling endgame for this prediction task would be to replace reviewers with algorithms. </p>\n",
    "\n",
    "===================================================================================\n",
    "\n",
    "Dataset: Human Resources Analytics URL: https://www.kaggle.com/zynicide/wine-reviews"
   ]
  },
  {
   "cell_type": "markdown",
   "metadata": {},
   "source": [
    "## 2. Data Understanding"
   ]
  },
  {
   "cell_type": "markdown",
   "metadata": {},
   "source": [
    "### 2.1 Data Description"
   ]
  },
  {
   "cell_type": "code",
   "execution_count": 12,
   "metadata": {},
   "outputs": [
    {
     "data": {
      "text/html": [
       "<div>\n",
       "<style scoped>\n",
       "    .dataframe tbody tr th:only-of-type {\n",
       "        vertical-align: middle;\n",
       "    }\n",
       "\n",
       "    .dataframe tbody tr th {\n",
       "        vertical-align: top;\n",
       "    }\n",
       "\n",
       "    .dataframe thead th {\n",
       "        text-align: right;\n",
       "    }\n",
       "</style>\n",
       "<table border=\"1\" class=\"dataframe\">\n",
       "  <thead>\n",
       "    <tr style=\"text-align: right;\">\n",
       "      <th></th>\n",
       "      <th>Unnamed: 0</th>\n",
       "      <th>country</th>\n",
       "      <th>description</th>\n",
       "      <th>designation</th>\n",
       "      <th>points</th>\n",
       "      <th>price</th>\n",
       "      <th>province</th>\n",
       "      <th>region_1</th>\n",
       "      <th>region_2</th>\n",
       "      <th>taster_name</th>\n",
       "      <th>taster_twitter_handle</th>\n",
       "      <th>title</th>\n",
       "      <th>variety</th>\n",
       "      <th>winery</th>\n",
       "    </tr>\n",
       "  </thead>\n",
       "  <tbody>\n",
       "    <tr>\n",
       "      <th>0</th>\n",
       "      <td>0</td>\n",
       "      <td>Italy</td>\n",
       "      <td>Aromas include tropical fruit, broom, brimston...</td>\n",
       "      <td>Vulkà Bianco</td>\n",
       "      <td>87</td>\n",
       "      <td>NaN</td>\n",
       "      <td>Sicily &amp; Sardinia</td>\n",
       "      <td>Etna</td>\n",
       "      <td>NaN</td>\n",
       "      <td>Kerin O’Keefe</td>\n",
       "      <td>@kerinokeefe</td>\n",
       "      <td>Nicosia 2013 Vulkà Bianco  (Etna)</td>\n",
       "      <td>White Blend</td>\n",
       "      <td>Nicosia</td>\n",
       "    </tr>\n",
       "    <tr>\n",
       "      <th>1</th>\n",
       "      <td>1</td>\n",
       "      <td>Portugal</td>\n",
       "      <td>This is ripe and fruity, a wine that is smooth...</td>\n",
       "      <td>Avidagos</td>\n",
       "      <td>87</td>\n",
       "      <td>15.0</td>\n",
       "      <td>Douro</td>\n",
       "      <td>NaN</td>\n",
       "      <td>NaN</td>\n",
       "      <td>Roger Voss</td>\n",
       "      <td>@vossroger</td>\n",
       "      <td>Quinta dos Avidagos 2011 Avidagos Red (Douro)</td>\n",
       "      <td>Portuguese Red</td>\n",
       "      <td>Quinta dos Avidagos</td>\n",
       "    </tr>\n",
       "    <tr>\n",
       "      <th>2</th>\n",
       "      <td>2</td>\n",
       "      <td>US</td>\n",
       "      <td>Tart and snappy, the flavors of lime flesh and...</td>\n",
       "      <td>NaN</td>\n",
       "      <td>87</td>\n",
       "      <td>14.0</td>\n",
       "      <td>Oregon</td>\n",
       "      <td>Willamette Valley</td>\n",
       "      <td>Willamette Valley</td>\n",
       "      <td>Paul Gregutt</td>\n",
       "      <td>@paulgwine</td>\n",
       "      <td>Rainstorm 2013 Pinot Gris (Willamette Valley)</td>\n",
       "      <td>Pinot Gris</td>\n",
       "      <td>Rainstorm</td>\n",
       "    </tr>\n",
       "    <tr>\n",
       "      <th>3</th>\n",
       "      <td>3</td>\n",
       "      <td>US</td>\n",
       "      <td>Pineapple rind, lemon pith and orange blossom ...</td>\n",
       "      <td>Reserve Late Harvest</td>\n",
       "      <td>87</td>\n",
       "      <td>13.0</td>\n",
       "      <td>Michigan</td>\n",
       "      <td>Lake Michigan Shore</td>\n",
       "      <td>NaN</td>\n",
       "      <td>Alexander Peartree</td>\n",
       "      <td>NaN</td>\n",
       "      <td>St. Julian 2013 Reserve Late Harvest Riesling ...</td>\n",
       "      <td>Riesling</td>\n",
       "      <td>St. Julian</td>\n",
       "    </tr>\n",
       "    <tr>\n",
       "      <th>4</th>\n",
       "      <td>4</td>\n",
       "      <td>US</td>\n",
       "      <td>Much like the regular bottling from 2012, this...</td>\n",
       "      <td>Vintner's Reserve Wild Child Block</td>\n",
       "      <td>87</td>\n",
       "      <td>65.0</td>\n",
       "      <td>Oregon</td>\n",
       "      <td>Willamette Valley</td>\n",
       "      <td>Willamette Valley</td>\n",
       "      <td>Paul Gregutt</td>\n",
       "      <td>@paulgwine</td>\n",
       "      <td>Sweet Cheeks 2012 Vintner's Reserve Wild Child...</td>\n",
       "      <td>Pinot Noir</td>\n",
       "      <td>Sweet Cheeks</td>\n",
       "    </tr>\n",
       "  </tbody>\n",
       "</table>\n",
       "</div>"
      ],
      "text/plain": [
       "   Unnamed: 0   country                                        description  \\\n",
       "0           0     Italy  Aromas include tropical fruit, broom, brimston...   \n",
       "1           1  Portugal  This is ripe and fruity, a wine that is smooth...   \n",
       "2           2        US  Tart and snappy, the flavors of lime flesh and...   \n",
       "3           3        US  Pineapple rind, lemon pith and orange blossom ...   \n",
       "4           4        US  Much like the regular bottling from 2012, this...   \n",
       "\n",
       "                          designation  points  price           province  \\\n",
       "0                        Vulkà Bianco      87    NaN  Sicily & Sardinia   \n",
       "1                            Avidagos      87   15.0              Douro   \n",
       "2                                 NaN      87   14.0             Oregon   \n",
       "3                Reserve Late Harvest      87   13.0           Michigan   \n",
       "4  Vintner's Reserve Wild Child Block      87   65.0             Oregon   \n",
       "\n",
       "              region_1           region_2         taster_name  \\\n",
       "0                 Etna                NaN       Kerin O’Keefe   \n",
       "1                  NaN                NaN          Roger Voss   \n",
       "2    Willamette Valley  Willamette Valley        Paul Gregutt   \n",
       "3  Lake Michigan Shore                NaN  Alexander Peartree   \n",
       "4    Willamette Valley  Willamette Valley        Paul Gregutt   \n",
       "\n",
       "  taster_twitter_handle                                              title  \\\n",
       "0          @kerinokeefe                  Nicosia 2013 Vulkà Bianco  (Etna)   \n",
       "1            @vossroger      Quinta dos Avidagos 2011 Avidagos Red (Douro)   \n",
       "2           @paulgwine       Rainstorm 2013 Pinot Gris (Willamette Valley)   \n",
       "3                   NaN  St. Julian 2013 Reserve Late Harvest Riesling ...   \n",
       "4           @paulgwine   Sweet Cheeks 2012 Vintner's Reserve Wild Child...   \n",
       "\n",
       "          variety               winery  \n",
       "0     White Blend              Nicosia  \n",
       "1  Portuguese Red  Quinta dos Avidagos  \n",
       "2      Pinot Gris            Rainstorm  \n",
       "3        Riesling           St. Julian  \n",
       "4      Pinot Noir         Sweet Cheeks  "
      ]
     },
     "execution_count": 12,
     "metadata": {},
     "output_type": "execute_result"
    }
   ],
   "source": [
    "df = pd.read_csv('./wine-reviews/winemag-data-130k-v2.csv')\n",
    "df.head()"
   ]
  },
  {
   "cell_type": "code",
   "execution_count": 14,
   "metadata": {},
   "outputs": [
    {
     "name": "stdout",
     "output_type": "stream",
     "text": [
      "Number of provinces: 426\n",
      "Number of countries: 44\n",
      "Number of primary regions : 1230\n",
      "Number of secondary regions : 18\n",
      "Number of wine varieties: 708\n",
      "Number of wineries types: 16757\n",
      "Number of designations: 37980\n",
      "Number of reviewers: 20\n"
     ]
    }
   ],
   "source": [
    "print(\"Number of provinces:\",len(df.province.unique()))\n",
    "print(\"Number of countries:\",len(df.country.unique()))\n",
    "print(\"Number of primary regions :\",len(df.region_1.unique()))\n",
    "print(\"Number of secondary regions :\",len(df.region_2.unique()))\n",
    "print(\"Number of wine varieties:\",len(df.variety.unique()))\n",
    "print(\"Number of wineries types:\",len(df.winery.unique()))\n",
    "print(\"Number of designations:\",len(df.designation.unique()))\n",
    "\n",
    "print(\"Number of reviewers:\",len(df.taster_name.unique()))"
   ]
  },
  {
   "cell_type": "markdown",
   "metadata": {},
   "source": [
    "### Category Analysis\n",
    "In this report we will be utilizing the region categories: province, country, primary region, secondary region, wine variety, winery type, designations, and reviwers as the premise for predicting a wine reviewers rating of a specific wine."
   ]
  },
  {
   "cell_type": "markdown",
   "metadata": {},
   "source": [
    "## 3. Data Visualization"
   ]
  },
  {
   "cell_type": "code",
   "execution_count": 15,
   "metadata": {},
   "outputs": [
    {
     "data": {
      "text/plain": [
       "<matplotlib.axes._subplots.AxesSubplot at 0x1a1f5456d8>"
      ]
     },
     "execution_count": 15,
     "metadata": {},
     "output_type": "execute_result"
    },
    {
     "data": {
      "image/png": "[encoded data removed]",
      "text/plain": [
       "<Figure size 1800x720 with 2 Axes>"
      ]
     },
     "metadata": {
      "needs_background": "light"
     },
     "output_type": "display_data"
    }
   ],
   "source": [
    "import warnings\n",
    "warnings.simplefilter('ignore', DeprecationWarning)\n",
    "%matplotlib inline \n",
    "\n",
    "import missingno as mn\n",
    "\n",
    "mn.matrix(df.sort_values(by=['price','designation','region_1','region_1','region_2','taster_twitter_handle']))"
   ]
  },
  {
   "cell_type": "code",
   "execution_count": 16,
   "metadata": {},
   "outputs": [],
   "source": [
    "for col in ['description','region_2','taster_twitter_handle']:\n",
    "    if col in df:\n",
    "        del df[col]"
   ]
  },
  {
   "cell_type": "code",
   "execution_count": 17,
   "metadata": {},
   "outputs": [
    {
     "data": {
      "image/png": "[encoded data removed]",
      "text/plain": [
       "<Figure size 432x288 with 1 Axes>"
      ]
     },
     "metadata": {
      "needs_background": "light"
     },
     "output_type": "display_data"
    }
   ],
   "source": [
    "nona = df.dropna()\n",
    "x = np.random.normal(nona['price'])\n",
    "sns.distplot(x);"
   ]
  },
  {
   "cell_type": "markdown",
   "metadata": {},
   "source": [
    "### Analysis of price vs rating comparison\n",
    "\n",
    "\n",
    "Lorem ipsum dolor sit amet, consectetur adipiscing elit. Nunc urna est, ultrices nec varius eget, tincidunt ac orci. Mauris vitae tellus rutrum metus tincidunt sodales ut nec ipsum. Sed dapibus, sapien in feugiat tempus, ligula felis cursus metus, quis cursus nulla nunc commodo ante. Quisque ipsum arcu, tincidunt eu porttitor et, placerat ac lacus. Nam rhoncus elit sit amet quam tincidunt auctor. Morbi eget dui euismod, ornare tortor eu, laoreet tellus. Vestibulum elit sem, rhoncus quis ornare ac, molestie vitae sem. Donec posuere ac nisl nec condimentum. In dignissim tellus dui, mollis sodales mi feugiat vel. Proin suscipit, orci id scelerisque egestas, libero tellus sagittis massa, nec laoreet orci odio a sem. Sed porttitor ullamcorper lorem. Donec vehicula, nunc a aliquam bibendum, orci libero cursus dui, in placerat ex magna quis tortor."
   ]
  },
  {
   "cell_type": "code",
   "execution_count": 18,
   "metadata": {},
   "outputs": [
    {
     "data": {
      "image/png": "[encoded data removed]",
      "text/plain": [
       "<Figure size 720x446.4 with 1 Axes>"
      ]
     },
     "metadata": {
      "needs_background": "light"
     },
     "output_type": "display_data"
    }
   ],
   "source": [
    "nona_sort = nona.sort_values(by=['price'],ascending=False)\n",
    "nona_sort.head()\n",
    "nona_nooutlier = nona_sort.drop(index=120391)\n",
    "\n",
    "plt.figure(figsize=(10,6.2))\n",
    "plt.scatter(nona_nooutlier['price'],nona_nooutlier['points'])\n",
    "plt.title('Loose Trend Between Points Awarded and Price')\n",
    "plt.xlabel('Price in USD')\n",
    "plt.ylabel('Wine Review Score')\n",
    "plt.show()"
   ]
  },
  {
   "cell_type": "code",
   "execution_count": 34,
   "metadata": {},
   "outputs": [
    {
     "data": {
      "text/plain": [
       "0.45279355494916457"
      ]
     },
     "execution_count": 34,
     "metadata": {},
     "output_type": "execute_result"
    }
   ],
   "source": [
    "# Correlation coefficient between points and price\n",
    "nona['points'].corr(nona['price'])"
   ]
  },
  {
   "cell_type": "code",
   "execution_count": 35,
   "metadata": {},
   "outputs": [
    {
     "data": {
      "text/html": [
       "<div>\n",
       "<style scoped>\n",
       "    .dataframe tbody tr th:only-of-type {\n",
       "        vertical-align: middle;\n",
       "    }\n",
       "\n",
       "    .dataframe tbody tr th {\n",
       "        vertical-align: top;\n",
       "    }\n",
       "\n",
       "    .dataframe thead th {\n",
       "        text-align: right;\n",
       "    }\n",
       "</style>\n",
       "<table border=\"1\" class=\"dataframe\">\n",
       "  <thead>\n",
       "    <tr style=\"text-align: right;\">\n",
       "      <th></th>\n",
       "      <th>count</th>\n",
       "      <th>mean</th>\n",
       "      <th>std</th>\n",
       "      <th>min</th>\n",
       "      <th>25%</th>\n",
       "      <th>50%</th>\n",
       "      <th>75%</th>\n",
       "      <th>max</th>\n",
       "    </tr>\n",
       "    <tr>\n",
       "      <th>taster_name</th>\n",
       "      <th></th>\n",
       "      <th></th>\n",
       "      <th></th>\n",
       "      <th></th>\n",
       "      <th></th>\n",
       "      <th></th>\n",
       "      <th></th>\n",
       "      <th></th>\n",
       "    </tr>\n",
       "  </thead>\n",
       "  <tbody>\n",
       "    <tr>\n",
       "      <th>Alexander Peartree</th>\n",
       "      <td>258.0</td>\n",
       "      <td>85.794574</td>\n",
       "      <td>1.944875</td>\n",
       "      <td>80.0</td>\n",
       "      <td>85.00</td>\n",
       "      <td>86.0</td>\n",
       "      <td>87.00</td>\n",
       "      <td>91.0</td>\n",
       "    </tr>\n",
       "    <tr>\n",
       "      <th>Anna Lee C. Iijima</th>\n",
       "      <td>1710.0</td>\n",
       "      <td>87.592982</td>\n",
       "      <td>2.127135</td>\n",
       "      <td>81.0</td>\n",
       "      <td>86.00</td>\n",
       "      <td>88.0</td>\n",
       "      <td>89.00</td>\n",
       "      <td>94.0</td>\n",
       "    </tr>\n",
       "    <tr>\n",
       "      <th>Anne Krebiehl MW</th>\n",
       "      <td>1171.0</td>\n",
       "      <td>90.758326</td>\n",
       "      <td>2.566485</td>\n",
       "      <td>80.0</td>\n",
       "      <td>89.00</td>\n",
       "      <td>91.0</td>\n",
       "      <td>93.00</td>\n",
       "      <td>97.0</td>\n",
       "    </tr>\n",
       "    <tr>\n",
       "      <th>Carrie Dykes</th>\n",
       "      <td>96.0</td>\n",
       "      <td>86.718750</td>\n",
       "      <td>1.917801</td>\n",
       "      <td>82.0</td>\n",
       "      <td>85.00</td>\n",
       "      <td>87.0</td>\n",
       "      <td>88.00</td>\n",
       "      <td>92.0</td>\n",
       "    </tr>\n",
       "    <tr>\n",
       "      <th>Christina Pickard</th>\n",
       "      <td>2.0</td>\n",
       "      <td>91.000000</td>\n",
       "      <td>2.828427</td>\n",
       "      <td>89.0</td>\n",
       "      <td>90.00</td>\n",
       "      <td>91.0</td>\n",
       "      <td>92.00</td>\n",
       "      <td>93.0</td>\n",
       "    </tr>\n",
       "    <tr>\n",
       "      <th>Fiona Adams</th>\n",
       "      <td>8.0</td>\n",
       "      <td>86.875000</td>\n",
       "      <td>2.748376</td>\n",
       "      <td>82.0</td>\n",
       "      <td>85.75</td>\n",
       "      <td>87.0</td>\n",
       "      <td>88.25</td>\n",
       "      <td>91.0</td>\n",
       "    </tr>\n",
       "    <tr>\n",
       "      <th>Jim Gordon</th>\n",
       "      <td>2652.0</td>\n",
       "      <td>89.127074</td>\n",
       "      <td>2.665296</td>\n",
       "      <td>80.0</td>\n",
       "      <td>87.00</td>\n",
       "      <td>89.0</td>\n",
       "      <td>91.00</td>\n",
       "      <td>97.0</td>\n",
       "    </tr>\n",
       "    <tr>\n",
       "      <th>Joe Czerwinski</th>\n",
       "      <td>2347.0</td>\n",
       "      <td>88.902429</td>\n",
       "      <td>3.009268</td>\n",
       "      <td>80.0</td>\n",
       "      <td>87.00</td>\n",
       "      <td>89.0</td>\n",
       "      <td>91.00</td>\n",
       "      <td>100.0</td>\n",
       "    </tr>\n",
       "    <tr>\n",
       "      <th>Kerin O’Keefe</th>\n",
       "      <td>6903.0</td>\n",
       "      <td>89.103144</td>\n",
       "      <td>2.554890</td>\n",
       "      <td>80.0</td>\n",
       "      <td>87.00</td>\n",
       "      <td>89.0</td>\n",
       "      <td>91.00</td>\n",
       "      <td>100.0</td>\n",
       "    </tr>\n",
       "    <tr>\n",
       "      <th>Lauren Buzzeo</th>\n",
       "      <td>432.0</td>\n",
       "      <td>87.321759</td>\n",
       "      <td>2.378498</td>\n",
       "      <td>81.0</td>\n",
       "      <td>86.00</td>\n",
       "      <td>87.0</td>\n",
       "      <td>89.00</td>\n",
       "      <td>95.0</td>\n",
       "    </tr>\n",
       "    <tr>\n",
       "      <th>Matt Kettmann</th>\n",
       "      <td>4508.0</td>\n",
       "      <td>90.470941</td>\n",
       "      <td>2.453616</td>\n",
       "      <td>82.0</td>\n",
       "      <td>89.00</td>\n",
       "      <td>91.0</td>\n",
       "      <td>92.00</td>\n",
       "      <td>97.0</td>\n",
       "    </tr>\n",
       "    <tr>\n",
       "      <th>Michael Schachner</th>\n",
       "      <td>8118.0</td>\n",
       "      <td>87.371027</td>\n",
       "      <td>3.166608</td>\n",
       "      <td>80.0</td>\n",
       "      <td>85.00</td>\n",
       "      <td>87.0</td>\n",
       "      <td>90.00</td>\n",
       "      <td>98.0</td>\n",
       "    </tr>\n",
       "    <tr>\n",
       "      <th>Paul Gregutt</th>\n",
       "      <td>6425.0</td>\n",
       "      <td>89.451518</td>\n",
       "      <td>2.840650</td>\n",
       "      <td>80.0</td>\n",
       "      <td>87.00</td>\n",
       "      <td>90.0</td>\n",
       "      <td>91.00</td>\n",
       "      <td>100.0</td>\n",
       "    </tr>\n",
       "    <tr>\n",
       "      <th>Roger Voss</th>\n",
       "      <td>9237.0</td>\n",
       "      <td>88.990798</td>\n",
       "      <td>2.915740</td>\n",
       "      <td>80.0</td>\n",
       "      <td>87.00</td>\n",
       "      <td>89.0</td>\n",
       "      <td>91.00</td>\n",
       "      <td>100.0</td>\n",
       "    </tr>\n",
       "    <tr>\n",
       "      <th>Sean P. Sullivan</th>\n",
       "      <td>3403.0</td>\n",
       "      <td>89.087570</td>\n",
       "      <td>2.418447</td>\n",
       "      <td>80.0</td>\n",
       "      <td>87.00</td>\n",
       "      <td>89.0</td>\n",
       "      <td>91.00</td>\n",
       "      <td>97.0</td>\n",
       "    </tr>\n",
       "    <tr>\n",
       "      <th>Susan Kostrzewa</th>\n",
       "      <td>163.0</td>\n",
       "      <td>84.588957</td>\n",
       "      <td>1.871588</td>\n",
       "      <td>80.0</td>\n",
       "      <td>83.00</td>\n",
       "      <td>84.0</td>\n",
       "      <td>86.00</td>\n",
       "      <td>91.0</td>\n",
       "    </tr>\n",
       "    <tr>\n",
       "      <th>Virginie Boone</th>\n",
       "      <td>6737.0</td>\n",
       "      <td>89.548761</td>\n",
       "      <td>2.984526</td>\n",
       "      <td>80.0</td>\n",
       "      <td>88.00</td>\n",
       "      <td>90.0</td>\n",
       "      <td>92.00</td>\n",
       "      <td>99.0</td>\n",
       "    </tr>\n",
       "  </tbody>\n",
       "</table>\n",
       "</div>"
      ],
      "text/plain": [
       "                     count       mean       std   min    25%   50%    75%  \\\n",
       "taster_name                                                                 \n",
       "Alexander Peartree   258.0  85.794574  1.944875  80.0  85.00  86.0  87.00   \n",
       "Anna Lee C. Iijima  1710.0  87.592982  2.127135  81.0  86.00  88.0  89.00   \n",
       "Anne Krebiehl MW    1171.0  90.758326  2.566485  80.0  89.00  91.0  93.00   \n",
       "Carrie Dykes          96.0  86.718750  1.917801  82.0  85.00  87.0  88.00   \n",
       "Christina Pickard      2.0  91.000000  2.828427  89.0  90.00  91.0  92.00   \n",
       "Fiona Adams            8.0  86.875000  2.748376  82.0  85.75  87.0  88.25   \n",
       "Jim Gordon          2652.0  89.127074  2.665296  80.0  87.00  89.0  91.00   \n",
       "Joe Czerwinski      2347.0  88.902429  3.009268  80.0  87.00  89.0  91.00   \n",
       "Kerin O’Keefe       6903.0  89.103144  2.554890  80.0  87.00  89.0  91.00   \n",
       "Lauren Buzzeo        432.0  87.321759  2.378498  81.0  86.00  87.0  89.00   \n",
       "Matt Kettmann       4508.0  90.470941  2.453616  82.0  89.00  91.0  92.00   \n",
       "Michael Schachner   8118.0  87.371027  3.166608  80.0  85.00  87.0  90.00   \n",
       "Paul Gregutt        6425.0  89.451518  2.840650  80.0  87.00  90.0  91.00   \n",
       "Roger Voss          9237.0  88.990798  2.915740  80.0  87.00  89.0  91.00   \n",
       "Sean P. Sullivan    3403.0  89.087570  2.418447  80.0  87.00  89.0  91.00   \n",
       "Susan Kostrzewa      163.0  84.588957  1.871588  80.0  83.00  84.0  86.00   \n",
       "Virginie Boone      6737.0  89.548761  2.984526  80.0  88.00  90.0  92.00   \n",
       "\n",
       "                      max  \n",
       "taster_name                \n",
       "Alexander Peartree   91.0  \n",
       "Anna Lee C. Iijima   94.0  \n",
       "Anne Krebiehl MW     97.0  \n",
       "Carrie Dykes         92.0  \n",
       "Christina Pickard    93.0  \n",
       "Fiona Adams          91.0  \n",
       "Jim Gordon           97.0  \n",
       "Joe Czerwinski      100.0  \n",
       "Kerin O’Keefe       100.0  \n",
       "Lauren Buzzeo        95.0  \n",
       "Matt Kettmann        97.0  \n",
       "Michael Schachner    98.0  \n",
       "Paul Gregutt        100.0  \n",
       "Roger Voss          100.0  \n",
       "Sean P. Sullivan     97.0  \n",
       "Susan Kostrzewa      91.0  \n",
       "Virginie Boone       99.0  "
      ]
     },
     "execution_count": 35,
     "metadata": {},
     "output_type": "execute_result"
    }
   ],
   "source": [
    "df_grouped = nona.groupby(by=['taster_name'])\n",
    "#df_countries_1000 = \n",
    "df_tasters = df_grouped.describe()\n",
    "df_tasters_points = df_grouped.describe()['points']\n",
    "df_tasters_points"
   ]
  },
  {
   "cell_type": "code",
   "execution_count": 28,
   "metadata": {},
   "outputs": [
    {
     "data": {
      "image/png": "[encoded data removed]",
      "text/plain": [
       "<Figure size 2160x720 with 1 Axes>"
      ]
     },
     "metadata": {
      "needs_background": "light"
     },
     "output_type": "display_data"
    }
   ],
   "source": [
    "# sns boxplot\n",
    "dims = (30, 10)\n",
    "\n",
    "fig, ax = plt.subplots(figsize=dims)\n",
    "sns.boxplot(ax=ax, x='taster_name', y='points', data=nona)\n",
    "plt.show()"
   ]
  },
  {
   "cell_type": "code",
   "execution_count": 31,
   "metadata": {},
   "outputs": [
    {
     "data": {
      "text/plain": [
       "0.45279355494916457"
      ]
     },
     "execution_count": 31,
     "metadata": {},
     "output_type": "execute_result"
    }
   ],
   "source": [
    "nona['points'].corr(nona['price'])"
   ]
  },
  {
   "cell_type": "code",
   "execution_count": null,
   "metadata": {},
   "outputs": [],
   "source": []
  },
  {
   "cell_type": "markdown",
   "metadata": {},
   "source": [
    "## Reference"
   ]
  },
  {
   "cell_type": "code",
   "execution_count": null,
   "metadata": {},
   "outputs": [],
   "source": []
  }
 ],
 "metadata": {
  "kernelspec": {
   "display_name": "Python 3",
   "language": "python",
   "name": "python3"
  },
  "language_info": {
   "codemirror_mode": {
    "name": "ipython",
    "version": 3
   },
   "file_extension": ".py",
   "mimetype": "text/x-python",
   "name": "python",
   "nbconvert_exporter": "python",
   "pygments_lexer": "ipython3",
   "version": "3.7.3"
  }
 },
 "nbformat": 4,
 "nbformat_minor": 2
}
